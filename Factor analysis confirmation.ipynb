{
 "cells": [
  {
   "cell_type": "code",
   "execution_count": 1,
   "metadata": {},
   "outputs": [],
   "source": [
    "import pandas as pd\n",
    "from preprocessing_unique import create_testdata\n",
    "from factor_analyzer import FactorAnalyzer\n"
   ]
  },
  {
   "cell_type": "code",
   "execution_count": 16,
   "metadata": {},
   "outputs": [],
   "source": [
    "features_train,windspeed_train,features_test,windspeed_test=create_testdata('50',1)\n",
    "#seperate out the one-hot encoding variables before standardization \n",
    "df1 = features_train.iloc[:, :17]\n",
    "df2 = features_train.iloc[:, 17:]\n",
    "df3 = features_test.iloc[:, :17]\n",
    "df4 = features_test.iloc[:, 17:]\n",
    "\n",
    "from sklearn.preprocessing import StandardScaler\n",
    "scaler=StandardScaler()\n",
    "scaler.fit(df1)\n",
    "dftrain=scaler.transform(df1)\n",
    "dftest=scaler.transform(df3)\n",
    "\n",
    "df1=pd.DataFrame(data=dftrain,index=df1.index.values,columns=df1.columns.values)\n",
    "df3=pd.DataFrame(data=dftest,index=df3.index.values,columns=df3.columns.values)\n",
    "\n",
    "features_train=pd.concat([df1,df2], axis=1)\n",
    "features_test=pd.concat([df3,df4], axis=1)"
   ]
  },
  {
   "cell_type": "code",
   "execution_count": 17,
   "metadata": {},
   "outputs": [
    {
     "data": {
      "text/plain": [
       "(4968.461086102683, 0.0)"
      ]
     },
     "execution_count": 17,
     "metadata": {},
     "output_type": "execute_result"
    }
   ],
   "source": [
    "from factor_analyzer.factor_analyzer import calculate_bartlett_sphericity\n",
    "chi_square_value,p_value=calculate_bartlett_sphericity(df1)\n",
    "chi_square_value, p_value"
   ]
  },
  {
   "cell_type": "code",
   "execution_count": 18,
   "metadata": {},
   "outputs": [],
   "source": [
    "from factor_analyzer.factor_analyzer import calculate_kmo\n",
    "kmo_all,kmo_model=calculate_kmo(df1)"
   ]
  },
  {
   "cell_type": "code",
   "execution_count": 19,
   "metadata": {},
   "outputs": [
    {
     "data": {
      "text/plain": [
       "0.5765316293175333"
      ]
     },
     "execution_count": 19,
     "metadata": {},
     "output_type": "execute_result"
    }
   ],
   "source": [
    "kmo_model"
   ]
  },
  {
   "cell_type": "code",
   "execution_count": 20,
   "metadata": {},
   "outputs": [],
   "source": [
    "#kmo_model value suggests that it barely makes the cut"
   ]
  },
  {
   "cell_type": "code",
   "execution_count": 22,
   "metadata": {},
   "outputs": [
    {
     "data": {
      "text/plain": [
       "array([3.39052369, 2.36400175, 1.87077599, 1.66143856, 1.25041479,\n",
       "       1.18978425, 1.04579122, 0.97030519, 0.75412023, 0.5357796 ,\n",
       "       0.47804711, 0.44169523, 0.34302144, 0.20824828, 0.17577286,\n",
       "       0.1734274 , 0.1468524 ])"
      ]
     },
     "execution_count": 22,
     "metadata": {},
     "output_type": "execute_result"
    }
   ],
   "source": [
    "fa = FactorAnalyzer(n_factors=7)\n",
    "fa.fit(df1)\n",
    "# Check Eigenvalues\n",
    "ev, v = fa.get_eigenvalues()\n",
    "ev"
   ]
  },
  {
   "cell_type": "code",
   "execution_count": 23,
   "metadata": {
    "scrolled": true
   },
   "outputs": [
    {
     "data": {
      "text/plain": [
       "(7, 17)"
      ]
     },
     "execution_count": 23,
     "metadata": {},
     "output_type": "execute_result"
    }
   ],
   "source": [
    "# 7 eigenvalues are greater than 1\n",
    "fa.loadings_.T.shape"
   ]
  },
  {
   "cell_type": "code",
   "execution_count": 24,
   "metadata": {},
   "outputs": [
    {
     "data": {
      "text/html": [
       "<div>\n",
       "<style scoped>\n",
       "    .dataframe tbody tr th:only-of-type {\n",
       "        vertical-align: middle;\n",
       "    }\n",
       "\n",
       "    .dataframe tbody tr th {\n",
       "        vertical-align: top;\n",
       "    }\n",
       "\n",
       "    .dataframe thead th {\n",
       "        text-align: right;\n",
       "    }\n",
       "</style>\n",
       "<table border=\"1\" class=\"dataframe\">\n",
       "  <thead>\n",
       "    <tr style=\"text-align: right;\">\n",
       "      <th></th>\n",
       "      <th>Distance to the closest Airport (kms)</th>\n",
       "      <th>Distance to the closest Builtup (kms)</th>\n",
       "      <th>Distance to the closest roads (kms)</th>\n",
       "      <th>Distance to the closest Agricultural area (kms)</th>\n",
       "      <th>Distance to the closest Barren area (kms)</th>\n",
       "      <th>Distance to the closest Settlement (kms)</th>\n",
       "      <th>Distance to the closest Shrubland (kms)</th>\n",
       "      <th>Distance to the closest Vegetation (kms)</th>\n",
       "      <th>Distance to the closest Water (kms)</th>\n",
       "      <th>Distance to the closest Wetland (kms)</th>\n",
       "      <th>Distance to the closest Forest (kms)</th>\n",
       "      <th>Distance to the closest Grassland (kms)</th>\n",
       "      <th>Distance to the closest Substation (kms)</th>\n",
       "      <th>meters</th>\n",
       "      <th>Elevation of Turbines (meters)</th>\n",
       "      <th>Slope</th>\n",
       "      <th>Lat</th>\n",
       "    </tr>\n",
       "  </thead>\n",
       "  <tbody>\n",
       "    <tr>\n",
       "      <th>0</th>\n",
       "      <td>0.520531</td>\n",
       "      <td>-0.520919</td>\n",
       "      <td>-0.015711</td>\n",
       "      <td>-0.124960</td>\n",
       "      <td>0.089323</td>\n",
       "      <td>-0.419592</td>\n",
       "      <td>0.480123</td>\n",
       "      <td>-0.143292</td>\n",
       "      <td>-0.095777</td>\n",
       "      <td>0.061463</td>\n",
       "      <td>0.066739</td>\n",
       "      <td>0.020640</td>\n",
       "      <td>-0.040334</td>\n",
       "      <td>0.076598</td>\n",
       "      <td>0.001121</td>\n",
       "      <td>-0.027049</td>\n",
       "      <td>1.105145</td>\n",
       "    </tr>\n",
       "    <tr>\n",
       "      <th>1</th>\n",
       "      <td>-0.099214</td>\n",
       "      <td>-0.257796</td>\n",
       "      <td>-0.144724</td>\n",
       "      <td>-0.341986</td>\n",
       "      <td>-0.182645</td>\n",
       "      <td>0.018854</td>\n",
       "      <td>-0.579053</td>\n",
       "      <td>0.066393</td>\n",
       "      <td>0.126310</td>\n",
       "      <td>0.002275</td>\n",
       "      <td>-0.031268</td>\n",
       "      <td>0.085221</td>\n",
       "      <td>0.112571</td>\n",
       "      <td>-0.007280</td>\n",
       "      <td>0.894360</td>\n",
       "      <td>0.777504</td>\n",
       "      <td>0.101639</td>\n",
       "    </tr>\n",
       "    <tr>\n",
       "      <th>2</th>\n",
       "      <td>-0.027553</td>\n",
       "      <td>0.126286</td>\n",
       "      <td>0.039201</td>\n",
       "      <td>0.002830</td>\n",
       "      <td>-0.105724</td>\n",
       "      <td>-0.029674</td>\n",
       "      <td>0.000743</td>\n",
       "      <td>0.039355</td>\n",
       "      <td>0.105250</td>\n",
       "      <td>-0.074395</td>\n",
       "      <td>0.927123</td>\n",
       "      <td>0.022957</td>\n",
       "      <td>-0.041007</td>\n",
       "      <td>0.853071</td>\n",
       "      <td>-0.027843</td>\n",
       "      <td>-0.004498</td>\n",
       "      <td>0.116993</td>\n",
       "    </tr>\n",
       "    <tr>\n",
       "      <th>3</th>\n",
       "      <td>0.038766</td>\n",
       "      <td>-0.075525</td>\n",
       "      <td>0.940611</td>\n",
       "      <td>0.038415</td>\n",
       "      <td>-0.166499</td>\n",
       "      <td>-0.015563</td>\n",
       "      <td>-0.037631</td>\n",
       "      <td>0.050175</td>\n",
       "      <td>0.035426</td>\n",
       "      <td>0.835762</td>\n",
       "      <td>0.000514</td>\n",
       "      <td>0.117531</td>\n",
       "      <td>-0.066848</td>\n",
       "      <td>-0.036539</td>\n",
       "      <td>-0.009579</td>\n",
       "      <td>-0.040843</td>\n",
       "      <td>-0.022967</td>\n",
       "    </tr>\n",
       "    <tr>\n",
       "      <th>4</th>\n",
       "      <td>0.026480</td>\n",
       "      <td>0.468417</td>\n",
       "      <td>0.027849</td>\n",
       "      <td>-0.027761</td>\n",
       "      <td>0.202633</td>\n",
       "      <td>0.140422</td>\n",
       "      <td>0.027253</td>\n",
       "      <td>-0.074103</td>\n",
       "      <td>-0.105302</td>\n",
       "      <td>0.073307</td>\n",
       "      <td>-0.029827</td>\n",
       "      <td>0.387322</td>\n",
       "      <td>0.968583</td>\n",
       "      <td>0.047941</td>\n",
       "      <td>0.025309</td>\n",
       "      <td>0.103119</td>\n",
       "      <td>0.146617</td>\n",
       "    </tr>\n",
       "    <tr>\n",
       "      <th>5</th>\n",
       "      <td>0.281885</td>\n",
       "      <td>0.019848</td>\n",
       "      <td>-0.217942</td>\n",
       "      <td>0.097328</td>\n",
       "      <td>0.309325</td>\n",
       "      <td>0.053845</td>\n",
       "      <td>-0.046181</td>\n",
       "      <td>-0.037177</td>\n",
       "      <td>0.604287</td>\n",
       "      <td>0.303297</td>\n",
       "      <td>0.192970</td>\n",
       "      <td>-0.070334</td>\n",
       "      <td>-0.133131</td>\n",
       "      <td>0.077212</td>\n",
       "      <td>0.418447</td>\n",
       "      <td>0.033995</td>\n",
       "      <td>-0.243799</td>\n",
       "    </tr>\n",
       "    <tr>\n",
       "      <th>6</th>\n",
       "      <td>-0.046968</td>\n",
       "      <td>-0.029222</td>\n",
       "      <td>0.193540</td>\n",
       "      <td>-0.076387</td>\n",
       "      <td>0.514388</td>\n",
       "      <td>-0.067202</td>\n",
       "      <td>0.065429</td>\n",
       "      <td>0.675631</td>\n",
       "      <td>0.003988</td>\n",
       "      <td>-0.129221</td>\n",
       "      <td>0.008114</td>\n",
       "      <td>0.091373</td>\n",
       "      <td>-0.194948</td>\n",
       "      <td>0.032888</td>\n",
       "      <td>0.007918</td>\n",
       "      <td>-0.024266</td>\n",
       "      <td>-0.265082</td>\n",
       "    </tr>\n",
       "  </tbody>\n",
       "</table>\n",
       "</div>"
      ],
      "text/plain": [
       "   Distance to the closest Airport (kms)  \\\n",
       "0                               0.520531   \n",
       "1                              -0.099214   \n",
       "2                              -0.027553   \n",
       "3                               0.038766   \n",
       "4                               0.026480   \n",
       "5                               0.281885   \n",
       "6                              -0.046968   \n",
       "\n",
       "   Distance to the closest Builtup (kms)  Distance to the closest roads (kms)  \\\n",
       "0                              -0.520919                            -0.015711   \n",
       "1                              -0.257796                            -0.144724   \n",
       "2                               0.126286                             0.039201   \n",
       "3                              -0.075525                             0.940611   \n",
       "4                               0.468417                             0.027849   \n",
       "5                               0.019848                            -0.217942   \n",
       "6                              -0.029222                             0.193540   \n",
       "\n",
       "   Distance to the closest Agricultural area (kms)  \\\n",
       "0                                        -0.124960   \n",
       "1                                        -0.341986   \n",
       "2                                         0.002830   \n",
       "3                                         0.038415   \n",
       "4                                        -0.027761   \n",
       "5                                         0.097328   \n",
       "6                                        -0.076387   \n",
       "\n",
       "   Distance to the closest Barren area (kms)  \\\n",
       "0                                   0.089323   \n",
       "1                                  -0.182645   \n",
       "2                                  -0.105724   \n",
       "3                                  -0.166499   \n",
       "4                                   0.202633   \n",
       "5                                   0.309325   \n",
       "6                                   0.514388   \n",
       "\n",
       "   Distance to the closest Settlement (kms)  \\\n",
       "0                                 -0.419592   \n",
       "1                                  0.018854   \n",
       "2                                 -0.029674   \n",
       "3                                 -0.015563   \n",
       "4                                  0.140422   \n",
       "5                                  0.053845   \n",
       "6                                 -0.067202   \n",
       "\n",
       "   Distance to the closest Shrubland (kms)  \\\n",
       "0                                 0.480123   \n",
       "1                                -0.579053   \n",
       "2                                 0.000743   \n",
       "3                                -0.037631   \n",
       "4                                 0.027253   \n",
       "5                                -0.046181   \n",
       "6                                 0.065429   \n",
       "\n",
       "   Distance to the closest Vegetation (kms)  \\\n",
       "0                                 -0.143292   \n",
       "1                                  0.066393   \n",
       "2                                  0.039355   \n",
       "3                                  0.050175   \n",
       "4                                 -0.074103   \n",
       "5                                 -0.037177   \n",
       "6                                  0.675631   \n",
       "\n",
       "   Distance to the closest Water (kms)  Distance to the closest Wetland (kms)  \\\n",
       "0                            -0.095777                               0.061463   \n",
       "1                             0.126310                               0.002275   \n",
       "2                             0.105250                              -0.074395   \n",
       "3                             0.035426                               0.835762   \n",
       "4                            -0.105302                               0.073307   \n",
       "5                             0.604287                               0.303297   \n",
       "6                             0.003988                              -0.129221   \n",
       "\n",
       "   Distance to the closest Forest (kms)  \\\n",
       "0                              0.066739   \n",
       "1                             -0.031268   \n",
       "2                              0.927123   \n",
       "3                              0.000514   \n",
       "4                             -0.029827   \n",
       "5                              0.192970   \n",
       "6                              0.008114   \n",
       "\n",
       "   Distance to the closest Grassland (kms)  \\\n",
       "0                                 0.020640   \n",
       "1                                 0.085221   \n",
       "2                                 0.022957   \n",
       "3                                 0.117531   \n",
       "4                                 0.387322   \n",
       "5                                -0.070334   \n",
       "6                                 0.091373   \n",
       "\n",
       "   Distance to the closest Substation (kms)    meters  \\\n",
       "0                                 -0.040334  0.076598   \n",
       "1                                  0.112571 -0.007280   \n",
       "2                                 -0.041007  0.853071   \n",
       "3                                 -0.066848 -0.036539   \n",
       "4                                  0.968583  0.047941   \n",
       "5                                 -0.133131  0.077212   \n",
       "6                                 -0.194948  0.032888   \n",
       "\n",
       "   Elevation of Turbines (meters)     Slope       Lat  \n",
       "0                        0.001121 -0.027049  1.105145  \n",
       "1                        0.894360  0.777504  0.101639  \n",
       "2                       -0.027843 -0.004498  0.116993  \n",
       "3                       -0.009579 -0.040843 -0.022967  \n",
       "4                        0.025309  0.103119  0.146617  \n",
       "5                        0.418447  0.033995 -0.243799  \n",
       "6                        0.007918 -0.024266 -0.265082  "
      ]
     },
     "execution_count": 24,
     "metadata": {},
     "output_type": "execute_result"
    }
   ],
   "source": [
    "pd.DataFrame(fa.loadings_.T,columns=df1.columns.values)"
   ]
  },
  {
   "cell_type": "code",
   "execution_count": 14,
   "metadata": {},
   "outputs": [
    {
     "data": {
      "text/plain": [
       "(array([3.32643974, 1.52313361, 1.31093396, 1.13367853, 1.11977225,\n",
       "        0.91851683, 0.73342688]),\n",
       " array([0.19567293, 0.08959609, 0.07711376, 0.06668697, 0.06586896,\n",
       "        0.0540304 , 0.04314276]),\n",
       " array([0.19567293, 0.28526902, 0.36238278, 0.42906976, 0.49493871,\n",
       "        0.54896911, 0.59211187]))"
      ]
     },
     "execution_count": 14,
     "metadata": {},
     "output_type": "execute_result"
    }
   ],
   "source": [
    "fa.get_factor_variance()"
   ]
  },
  {
   "cell_type": "code",
   "execution_count": 15,
   "metadata": {},
   "outputs": [],
   "source": [
    "#64% variance is explained by FA\n"
   ]
  },
  {
   "cell_type": "code",
   "execution_count": null,
   "metadata": {},
   "outputs": [],
   "source": []
  }
 ],
 "metadata": {
  "kernelspec": {
   "display_name": "Python 3",
   "language": "python",
   "name": "python3"
  },
  "language_info": {
   "codemirror_mode": {
    "name": "ipython",
    "version": 3
   },
   "file_extension": ".py",
   "mimetype": "text/x-python",
   "name": "python",
   "nbconvert_exporter": "python",
   "pygments_lexer": "ipython3",
   "version": "3.6.7"
  }
 },
 "nbformat": 4,
 "nbformat_minor": 2
}
