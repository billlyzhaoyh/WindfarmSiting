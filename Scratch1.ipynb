{
 "cells": [
  {
   "cell_type": "code",
   "execution_count": 1,
   "metadata": {},
   "outputs": [],
   "source": [
    "import pandas as pd\n",
    "import numpy as np"
   ]
  },
  {
   "cell_type": "code",
   "execution_count": 2,
   "metadata": {},
   "outputs": [],
   "source": [
    "#import functions needed to set up the dataset\n",
    "from prepare_data import create_testdata\n",
    "from preprocessing import preprocessing\n"
   ]
  },
  {
   "cell_type": "code",
   "execution_count": 3,
   "metadata": {},
   "outputs": [],
   "source": [
    "#create datasets\n",
    "df=preprocessing()\n",
    "features_train,windspeed_train,features_test,windspeed_test=create_testdata(df,'50')"
   ]
  },
  {
   "cell_type": "code",
   "execution_count": 4,
   "metadata": {},
   "outputs": [],
   "source": [
    "#seperate out the one-hot encoding variables before standardization \n",
    "df1 = features_train.iloc[:, :17]\n",
    "df2 = features_train.iloc[:, 17:]\n",
    "df3 = features_test.iloc[:, :17]\n",
    "df4 = features_test.iloc[:, 17:]"
   ]
  },
  {
   "cell_type": "code",
   "execution_count": 5,
   "metadata": {},
   "outputs": [],
   "source": [
    "from sklearn.preprocessing import StandardScaler\n",
    "scaler=StandardScaler()\n",
    "scaler.fit(df1)\n",
    "dftrain=scaler.transform(df1)\n",
    "dftest=scaler.transform(df3)"
   ]
  },
  {
   "cell_type": "code",
   "execution_count": 6,
   "metadata": {},
   "outputs": [],
   "source": [
    "df1=pd.DataFrame(data=dftrain,index=df1.index.values,columns=df1.columns.values)\n",
    "df3=pd.DataFrame(data=dftest,index=df3.index.values,columns=df3.columns.values)"
   ]
  },
  {
   "cell_type": "code",
   "execution_count": 7,
   "metadata": {},
   "outputs": [],
   "source": [
    "features_train=pd.concat([df1,df2], axis=1)\n",
    "features_test=pd.concat([df3,df4], axis=1)"
   ]
  },
  {
   "cell_type": "code",
   "execution_count": 8,
   "metadata": {
    "scrolled": true
   },
   "outputs": [
    {
     "data": {
      "text/html": [
       "<div>\n",
       "<style scoped>\n",
       "    .dataframe tbody tr th:only-of-type {\n",
       "        vertical-align: middle;\n",
       "    }\n",
       "\n",
       "    .dataframe tbody tr th {\n",
       "        vertical-align: top;\n",
       "    }\n",
       "\n",
       "    .dataframe thead th {\n",
       "        text-align: right;\n",
       "    }\n",
       "</style>\n",
       "<table border=\"1\" class=\"dataframe\">\n",
       "  <thead>\n",
       "    <tr style=\"text-align: right;\">\n",
       "      <th></th>\n",
       "      <th>Distance to the closest Airport (kms)</th>\n",
       "      <th>Distance to the closest Builtup (kms)</th>\n",
       "      <th>Distance to the closest roads (kms)</th>\n",
       "      <th>Distance to the closest Agricultural area (kms)</th>\n",
       "      <th>Distance to the closest Barren area (kms)</th>\n",
       "      <th>Distance to the closest Settlement (kms)</th>\n",
       "      <th>Distance to the closest Shrubland (kms)</th>\n",
       "      <th>Distance to the closest Vegetation (kms)</th>\n",
       "      <th>Distance to the closest Water (kms)</th>\n",
       "      <th>Distance to the closest Wetland (kms)</th>\n",
       "      <th>...</th>\n",
       "      <th>Lat</th>\n",
       "      <th>Long</th>\n",
       "      <th>France</th>\n",
       "      <th>India</th>\n",
       "      <th>Italy</th>\n",
       "      <th>Portugal</th>\n",
       "      <th>Scotland</th>\n",
       "      <th>South Africa</th>\n",
       "      <th>Thailand</th>\n",
       "      <th>Turkey</th>\n",
       "    </tr>\n",
       "  </thead>\n",
       "  <tbody>\n",
       "    <tr>\n",
       "      <th>count</th>\n",
       "      <td>2.663500e+04</td>\n",
       "      <td>2.663500e+04</td>\n",
       "      <td>2.663500e+04</td>\n",
       "      <td>2.663500e+04</td>\n",
       "      <td>2.663500e+04</td>\n",
       "      <td>2.663500e+04</td>\n",
       "      <td>2.663500e+04</td>\n",
       "      <td>2.663500e+04</td>\n",
       "      <td>2.663500e+04</td>\n",
       "      <td>2.663500e+04</td>\n",
       "      <td>...</td>\n",
       "      <td>2.663500e+04</td>\n",
       "      <td>2.663500e+04</td>\n",
       "      <td>26635.000000</td>\n",
       "      <td>26635.000000</td>\n",
       "      <td>26635.000000</td>\n",
       "      <td>26635.000000</td>\n",
       "      <td>26635.000000</td>\n",
       "      <td>26635.000000</td>\n",
       "      <td>26635.000000</td>\n",
       "      <td>26635.000000</td>\n",
       "    </tr>\n",
       "    <tr>\n",
       "      <th>mean</th>\n",
       "      <td>1.542533e-15</td>\n",
       "      <td>6.466429e-16</td>\n",
       "      <td>-9.160851e-17</td>\n",
       "      <td>-3.960706e-16</td>\n",
       "      <td>-1.983187e-16</td>\n",
       "      <td>-2.991787e-18</td>\n",
       "      <td>-6.497129e-16</td>\n",
       "      <td>-1.030525e-16</td>\n",
       "      <td>-1.065664e-16</td>\n",
       "      <td>-3.823694e-16</td>\n",
       "      <td>...</td>\n",
       "      <td>1.153565e-15</td>\n",
       "      <td>-6.941614e-16</td>\n",
       "      <td>0.098592</td>\n",
       "      <td>0.631537</td>\n",
       "      <td>0.111920</td>\n",
       "      <td>0.040285</td>\n",
       "      <td>0.037845</td>\n",
       "      <td>0.025680</td>\n",
       "      <td>0.004580</td>\n",
       "      <td>0.049559</td>\n",
       "    </tr>\n",
       "    <tr>\n",
       "      <th>std</th>\n",
       "      <td>1.000019e+00</td>\n",
       "      <td>1.000019e+00</td>\n",
       "      <td>1.000019e+00</td>\n",
       "      <td>1.000019e+00</td>\n",
       "      <td>1.000019e+00</td>\n",
       "      <td>1.000019e+00</td>\n",
       "      <td>1.000019e+00</td>\n",
       "      <td>1.000019e+00</td>\n",
       "      <td>1.000019e+00</td>\n",
       "      <td>1.000019e+00</td>\n",
       "      <td>...</td>\n",
       "      <td>1.000019e+00</td>\n",
       "      <td>1.000019e+00</td>\n",
       "      <td>0.298119</td>\n",
       "      <td>0.482397</td>\n",
       "      <td>0.315274</td>\n",
       "      <td>0.196631</td>\n",
       "      <td>0.190825</td>\n",
       "      <td>0.158183</td>\n",
       "      <td>0.067525</td>\n",
       "      <td>0.217036</td>\n",
       "    </tr>\n",
       "    <tr>\n",
       "      <th>min</th>\n",
       "      <td>-1.483658e+00</td>\n",
       "      <td>-1.419639e+00</td>\n",
       "      <td>-4.627821e-01</td>\n",
       "      <td>-9.889611e-01</td>\n",
       "      <td>-8.182140e-01</td>\n",
       "      <td>-1.030779e+00</td>\n",
       "      <td>-4.039777e-01</td>\n",
       "      <td>-7.472918e-01</td>\n",
       "      <td>-1.208349e+00</td>\n",
       "      <td>-1.098454e+00</td>\n",
       "      <td>...</td>\n",
       "      <td>-3.358721e+00</td>\n",
       "      <td>-1.863047e+00</td>\n",
       "      <td>0.000000</td>\n",
       "      <td>0.000000</td>\n",
       "      <td>0.000000</td>\n",
       "      <td>0.000000</td>\n",
       "      <td>0.000000</td>\n",
       "      <td>0.000000</td>\n",
       "      <td>0.000000</td>\n",
       "      <td>0.000000</td>\n",
       "    </tr>\n",
       "    <tr>\n",
       "      <th>25%</th>\n",
       "      <td>-6.338727e-01</td>\n",
       "      <td>-7.644383e-01</td>\n",
       "      <td>-2.477690e-01</td>\n",
       "      <td>-7.703341e-01</td>\n",
       "      <td>-7.025724e-01</td>\n",
       "      <td>-6.140454e-01</td>\n",
       "      <td>-3.795721e-01</td>\n",
       "      <td>-5.200562e-01</td>\n",
       "      <td>-6.717339e-01</td>\n",
       "      <td>-8.129643e-01</td>\n",
       "      <td>...</td>\n",
       "      <td>-8.665820e-01</td>\n",
       "      <td>-1.104265e+00</td>\n",
       "      <td>0.000000</td>\n",
       "      <td>0.000000</td>\n",
       "      <td>0.000000</td>\n",
       "      <td>0.000000</td>\n",
       "      <td>0.000000</td>\n",
       "      <td>0.000000</td>\n",
       "      <td>0.000000</td>\n",
       "      <td>0.000000</td>\n",
       "    </tr>\n",
       "    <tr>\n",
       "      <th>50%</th>\n",
       "      <td>-1.563678e-01</td>\n",
       "      <td>-3.548522e-01</td>\n",
       "      <td>-1.224322e-01</td>\n",
       "      <td>-3.862283e-01</td>\n",
       "      <td>-4.935326e-01</td>\n",
       "      <td>-2.673852e-01</td>\n",
       "      <td>-3.385177e-01</td>\n",
       "      <td>-2.790535e-01</td>\n",
       "      <td>-2.767726e-01</td>\n",
       "      <td>-3.145837e-01</td>\n",
       "      <td>...</td>\n",
       "      <td>-1.172241e-01</td>\n",
       "      <td>6.100691e-01</td>\n",
       "      <td>0.000000</td>\n",
       "      <td>1.000000</td>\n",
       "      <td>0.000000</td>\n",
       "      <td>0.000000</td>\n",
       "      <td>0.000000</td>\n",
       "      <td>0.000000</td>\n",
       "      <td>0.000000</td>\n",
       "      <td>0.000000</td>\n",
       "    </tr>\n",
       "    <tr>\n",
       "      <th>75%</th>\n",
       "      <td>3.420214e-01</td>\n",
       "      <td>8.391264e-01</td>\n",
       "      <td>5.321344e-02</td>\n",
       "      <td>5.043241e-01</td>\n",
       "      <td>4.109873e-01</td>\n",
       "      <td>2.930003e-01</td>\n",
       "      <td>-2.048271e-01</td>\n",
       "      <td>1.339294e-01</td>\n",
       "      <td>3.141419e-01</td>\n",
       "      <td>6.898016e-01</td>\n",
       "      <td>...</td>\n",
       "      <td>9.093560e-01</td>\n",
       "      <td>8.036194e-01</td>\n",
       "      <td>0.000000</td>\n",
       "      <td>1.000000</td>\n",
       "      <td>0.000000</td>\n",
       "      <td>0.000000</td>\n",
       "      <td>0.000000</td>\n",
       "      <td>0.000000</td>\n",
       "      <td>0.000000</td>\n",
       "      <td>0.000000</td>\n",
       "    </tr>\n",
       "    <tr>\n",
       "      <th>max</th>\n",
       "      <td>5.461220e+00</td>\n",
       "      <td>7.654099e+00</td>\n",
       "      <td>3.612553e+01</td>\n",
       "      <td>4.302686e+00</td>\n",
       "      <td>4.241503e+00</td>\n",
       "      <td>8.540620e+00</td>\n",
       "      <td>4.822895e+00</td>\n",
       "      <td>1.390496e+01</td>\n",
       "      <td>5.769068e+00</td>\n",
       "      <td>7.152363e+00</td>\n",
       "      <td>...</td>\n",
       "      <td>1.956828e+00</td>\n",
       "      <td>1.546733e+00</td>\n",
       "      <td>1.000000</td>\n",
       "      <td>1.000000</td>\n",
       "      <td>1.000000</td>\n",
       "      <td>1.000000</td>\n",
       "      <td>1.000000</td>\n",
       "      <td>1.000000</td>\n",
       "      <td>1.000000</td>\n",
       "      <td>1.000000</td>\n",
       "    </tr>\n",
       "  </tbody>\n",
       "</table>\n",
       "<p>8 rows × 25 columns</p>\n",
       "</div>"
      ],
      "text/plain": [
       "       Distance to the closest Airport (kms)  \\\n",
       "count                           2.663500e+04   \n",
       "mean                            1.542533e-15   \n",
       "std                             1.000019e+00   \n",
       "min                            -1.483658e+00   \n",
       "25%                            -6.338727e-01   \n",
       "50%                            -1.563678e-01   \n",
       "75%                             3.420214e-01   \n",
       "max                             5.461220e+00   \n",
       "\n",
       "       Distance to the closest Builtup (kms)  \\\n",
       "count                           2.663500e+04   \n",
       "mean                            6.466429e-16   \n",
       "std                             1.000019e+00   \n",
       "min                            -1.419639e+00   \n",
       "25%                            -7.644383e-01   \n",
       "50%                            -3.548522e-01   \n",
       "75%                             8.391264e-01   \n",
       "max                             7.654099e+00   \n",
       "\n",
       "       Distance to the closest roads (kms)  \\\n",
       "count                         2.663500e+04   \n",
       "mean                         -9.160851e-17   \n",
       "std                           1.000019e+00   \n",
       "min                          -4.627821e-01   \n",
       "25%                          -2.477690e-01   \n",
       "50%                          -1.224322e-01   \n",
       "75%                           5.321344e-02   \n",
       "max                           3.612553e+01   \n",
       "\n",
       "       Distance to the closest Agricultural area (kms)  \\\n",
       "count                                     2.663500e+04   \n",
       "mean                                     -3.960706e-16   \n",
       "std                                       1.000019e+00   \n",
       "min                                      -9.889611e-01   \n",
       "25%                                      -7.703341e-01   \n",
       "50%                                      -3.862283e-01   \n",
       "75%                                       5.043241e-01   \n",
       "max                                       4.302686e+00   \n",
       "\n",
       "       Distance to the closest Barren area (kms)  \\\n",
       "count                               2.663500e+04   \n",
       "mean                               -1.983187e-16   \n",
       "std                                 1.000019e+00   \n",
       "min                                -8.182140e-01   \n",
       "25%                                -7.025724e-01   \n",
       "50%                                -4.935326e-01   \n",
       "75%                                 4.109873e-01   \n",
       "max                                 4.241503e+00   \n",
       "\n",
       "       Distance to the closest Settlement (kms)  \\\n",
       "count                              2.663500e+04   \n",
       "mean                              -2.991787e-18   \n",
       "std                                1.000019e+00   \n",
       "min                               -1.030779e+00   \n",
       "25%                               -6.140454e-01   \n",
       "50%                               -2.673852e-01   \n",
       "75%                                2.930003e-01   \n",
       "max                                8.540620e+00   \n",
       "\n",
       "       Distance to the closest Shrubland (kms)  \\\n",
       "count                             2.663500e+04   \n",
       "mean                             -6.497129e-16   \n",
       "std                               1.000019e+00   \n",
       "min                              -4.039777e-01   \n",
       "25%                              -3.795721e-01   \n",
       "50%                              -3.385177e-01   \n",
       "75%                              -2.048271e-01   \n",
       "max                               4.822895e+00   \n",
       "\n",
       "       Distance to the closest Vegetation (kms)  \\\n",
       "count                              2.663500e+04   \n",
       "mean                              -1.030525e-16   \n",
       "std                                1.000019e+00   \n",
       "min                               -7.472918e-01   \n",
       "25%                               -5.200562e-01   \n",
       "50%                               -2.790535e-01   \n",
       "75%                                1.339294e-01   \n",
       "max                                1.390496e+01   \n",
       "\n",
       "       Distance to the closest Water (kms)  \\\n",
       "count                         2.663500e+04   \n",
       "mean                         -1.065664e-16   \n",
       "std                           1.000019e+00   \n",
       "min                          -1.208349e+00   \n",
       "25%                          -6.717339e-01   \n",
       "50%                          -2.767726e-01   \n",
       "75%                           3.141419e-01   \n",
       "max                           5.769068e+00   \n",
       "\n",
       "       Distance to the closest Wetland (kms)      ...                Lat  \\\n",
       "count                           2.663500e+04      ...       2.663500e+04   \n",
       "mean                           -3.823694e-16      ...       1.153565e-15   \n",
       "std                             1.000019e+00      ...       1.000019e+00   \n",
       "min                            -1.098454e+00      ...      -3.358721e+00   \n",
       "25%                            -8.129643e-01      ...      -8.665820e-01   \n",
       "50%                            -3.145837e-01      ...      -1.172241e-01   \n",
       "75%                             6.898016e-01      ...       9.093560e-01   \n",
       "max                             7.152363e+00      ...       1.956828e+00   \n",
       "\n",
       "               Long        France         India         Italy      Portugal  \\\n",
       "count  2.663500e+04  26635.000000  26635.000000  26635.000000  26635.000000   \n",
       "mean  -6.941614e-16      0.098592      0.631537      0.111920      0.040285   \n",
       "std    1.000019e+00      0.298119      0.482397      0.315274      0.196631   \n",
       "min   -1.863047e+00      0.000000      0.000000      0.000000      0.000000   \n",
       "25%   -1.104265e+00      0.000000      0.000000      0.000000      0.000000   \n",
       "50%    6.100691e-01      0.000000      1.000000      0.000000      0.000000   \n",
       "75%    8.036194e-01      0.000000      1.000000      0.000000      0.000000   \n",
       "max    1.546733e+00      1.000000      1.000000      1.000000      1.000000   \n",
       "\n",
       "           Scotland  South Africa      Thailand        Turkey  \n",
       "count  26635.000000  26635.000000  26635.000000  26635.000000  \n",
       "mean       0.037845      0.025680      0.004580      0.049559  \n",
       "std        0.190825      0.158183      0.067525      0.217036  \n",
       "min        0.000000      0.000000      0.000000      0.000000  \n",
       "25%        0.000000      0.000000      0.000000      0.000000  \n",
       "50%        0.000000      0.000000      0.000000      0.000000  \n",
       "75%        0.000000      0.000000      0.000000      0.000000  \n",
       "max        1.000000      1.000000      1.000000      1.000000  \n",
       "\n",
       "[8 rows x 25 columns]"
      ]
     },
     "execution_count": 8,
     "metadata": {},
     "output_type": "execute_result"
    }
   ],
   "source": [
    "features_train.describe()"
   ]
  },
  {
   "cell_type": "code",
   "execution_count": 10,
   "metadata": {},
   "outputs": [
    {
     "data": {
      "text/plain": [
       "array(['Distance to the closest Airport (kms)',\n",
       "       'Distance to the closest Builtup (kms)',\n",
       "       'Distance to the closest roads (kms)',\n",
       "       'Distance to the closest Agricultural area (kms)',\n",
       "       'Distance to the closest Barren area (kms)',\n",
       "       'Distance to the closest Settlement (kms)',\n",
       "       'Distance to the closest Shrubland (kms)',\n",
       "       'Distance to the closest Vegetation (kms)',\n",
       "       'Distance to the closest Water (kms)',\n",
       "       'Distance to the closest Wetland (kms)',\n",
       "       'Distance to the closest Forest (kms)',\n",
       "       'Distance to the closest Grassland (kms)',\n",
       "       'Distance to the closest Substation (kms)',\n",
       "       'Elevation of Turbines (meters)', 'Slope', 'Lat', 'Long', 'France',\n",
       "       'India', 'Italy', 'Portugal', 'Scotland', 'South Africa',\n",
       "       'Thailand', 'Turkey'], dtype=object)"
      ]
     },
     "execution_count": 10,
     "metadata": {},
     "output_type": "execute_result"
    }
   ],
   "source": [
    "features_train.columns.values"
   ]
  },
  {
   "cell_type": "code",
   "execution_count": 19,
   "metadata": {},
   "outputs": [
    {
     "name": "stderr",
     "output_type": "stream",
     "text": [
      "/Users/billyzhaoyh/anaconda/envs/gdal/lib/python3.6/site-packages/lightgbm/__init__.py:46: UserWarning: Starting from version 2.2.1, the library file in distribution wheels for macOS is built by the Apple Clang (Xcode_8.3.3) compiler.\n",
      "This means that in case of installing LightGBM from PyPI via the ``pip install lightgbm`` command, you don't need to install the gcc compiler anymore.\n",
      "Instead of that, you need to install the OpenMP library, which is required for running LightGBM on the system with the Apple Clang compiler.\n",
      "You can install the OpenMP library by the following command: ``brew install libomp``.\n",
      "  \"You can install the OpenMP library by the following command: ``brew install libomp``.\", UserWarning)\n"
     ]
    }
   ],
   "source": [
    "import lightgbm as lgb"
   ]
  },
  {
   "cell_type": "code",
   "execution_count": 20,
   "metadata": {},
   "outputs": [],
   "source": [
    "reg=lgb.LGBMRegressor()"
   ]
  },
  {
   "cell_type": "code",
   "execution_count": 21,
   "metadata": {},
   "outputs": [
    {
     "data": {
      "text/plain": [
       "LGBMRegressor(boosting_type='gbdt', class_weight=None, colsample_bytree=1.0,\n",
       "       importance_type='split', learning_rate=0.1, max_depth=-1,\n",
       "       min_child_samples=20, min_child_weight=0.001, min_split_gain=0.0,\n",
       "       n_estimators=100, n_jobs=-1, num_leaves=31, objective=None,\n",
       "       random_state=None, reg_alpha=0.0, reg_lambda=0.0, silent=True,\n",
       "       subsample=1.0, subsample_for_bin=200000, subsample_freq=0)"
      ]
     },
     "execution_count": 21,
     "metadata": {},
     "output_type": "execute_result"
    }
   ],
   "source": [
    "reg.fit(features_train,windspeed_train)"
   ]
  },
  {
   "cell_type": "code",
   "execution_count": 22,
   "metadata": {},
   "outputs": [
    {
     "name": "stdout",
     "output_type": "stream",
     "text": [
      "mse error on test set is -0.247953070292383.\n"
     ]
    }
   ],
   "source": [
    "y_predict=reg.predict(features_test)\n",
    "final_error=-np.sum(np.square(y_predict-windspeed_test))/len(windspeed_test)\n",
    "print('mse error on test set is {}.'.format(final_error))"
   ]
  },
  {
   "cell_type": "code",
   "execution_count": 22,
   "metadata": {},
   "outputs": [],
   "source": [
    "subset_data_x=features_train.iloc[0:10000]\n",
    "subset_data_y=windspeed_train[0:10000]"
   ]
  },
  {
   "cell_type": "code",
   "execution_count": 23,
   "metadata": {},
   "outputs": [],
   "source": [
    "from sklearn.gaussian_process import GaussianProcessRegressor\n",
    "from sklearn.gaussian_process.kernels import RBF, ConstantKernel,WhiteKernel"
   ]
  },
  {
   "cell_type": "code",
   "execution_count": 24,
   "metadata": {},
   "outputs": [],
   "source": [
    "kernel = ConstantKernel(0.1, (1e-23, 1e5)) * \\\n",
    "         RBF(0.1*np.ones(subset_data_x.shape[1]), (1e-23, 1e10) ) + \\\n",
    "         WhiteKernel(0.1, (1e-23, 1e5))"
   ]
  },
  {
   "cell_type": "code",
   "execution_count": 25,
   "metadata": {},
   "outputs": [],
   "source": [
    "#default kernel\n",
    "gpr = GaussianProcessRegressor(random_state=0,n_restarts_optimizer=2,kernel=kernel)"
   ]
  },
  {
   "cell_type": "code",
   "execution_count": null,
   "metadata": {},
   "outputs": [],
   "source": [
    "gpr.fit(subset_data_x,subset_data_y)"
   ]
  },
  {
   "cell_type": "code",
   "execution_count": 21,
   "metadata": {},
   "outputs": [
    {
     "name": "stdout",
     "output_type": "stream",
     "text": [
      "mse error on test set is -32.68129260384737.\n"
     ]
    }
   ],
   "source": [
    "y_predict=gpr.predict(features_test)\n",
    "final_error=-np.sum(np.square(y_predict-windspeed_test))/len(windspeed_test)\n",
    "print('mse error on test set is {}.'.format(final_error))"
   ]
  },
  {
   "cell_type": "code",
   "execution_count": 20,
   "metadata": {},
   "outputs": [
    {
     "data": {
      "text/plain": [
       "316**2 * RBF(length_scale=[1e+10, 1e+10, 1e+10, 1e+10, 1e+10, 1e+10, 1e+10, 1e+10, 1e+10, 1e+10, 1e+10, 1e+10, 1e+10, 1e+10, 1e+10, 0.145, 0.135, 0.1, 0.1, 0.1, 0.1, 0.1, 0.1, 0.1, 0.1]) + WhiteKernel(noise_level=0.529)"
      ]
     },
     "execution_count": 20,
     "metadata": {},
     "output_type": "execute_result"
    }
   ],
   "source": [
    "gpr.kernel_"
   ]
  },
  {
   "cell_type": "code",
   "execution_count": 18,
   "metadata": {},
   "outputs": [],
   "source": [
    "from sklearn.gaussian_process.kernels import Matern\n",
    "kernel=1.0 * Matern(length_scale=1.0, length_scale_bounds=(1e-1, 10.0),nu=1.5)"
   ]
  },
  {
   "cell_type": "code",
   "execution_count": 19,
   "metadata": {},
   "outputs": [],
   "source": [
    "gpr1 = GaussianProcessRegressor(kernel=kernel,random_state=0)"
   ]
  },
  {
   "cell_type": "code",
   "execution_count": null,
   "metadata": {},
   "outputs": [],
   "source": [
    "gpr1.fit(subset_data_x,subset_data_y)"
   ]
  },
  {
   "cell_type": "code",
   "execution_count": null,
   "metadata": {},
   "outputs": [],
   "source": []
  }
 ],
 "metadata": {
  "kernelspec": {
   "display_name": "Python 3",
   "language": "python",
   "name": "python3"
  },
  "language_info": {
   "codemirror_mode": {
    "name": "ipython",
    "version": 3
   },
   "file_extension": ".py",
   "mimetype": "text/x-python",
   "name": "python",
   "nbconvert_exporter": "python",
   "pygments_lexer": "ipython3",
   "version": "3.6.7"
  }
 },
 "nbformat": 4,
 "nbformat_minor": 2
}
