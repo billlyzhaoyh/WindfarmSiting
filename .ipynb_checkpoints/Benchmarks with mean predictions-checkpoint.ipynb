{
 "cells": [
  {
   "cell_type": "code",
   "execution_count": 1,
   "metadata": {},
   "outputs": [],
   "source": [
    "%matplotlib inline\n",
    "import pandas as pd\n",
    "pd.options.display.max_columns = 999\n",
    "#difference are all in the decimal places\n",
    "from preprocessing_unique import create_testdata"
   ]
  },
  {
   "cell_type": "code",
   "execution_count": 15,
   "metadata": {},
   "outputs": [],
   "source": [
    "#dataset 1\n",
    "features_train,windspeed_train,features_test,windspeed_test=create_testdata('200',2)\n"
   ]
  },
  {
   "cell_type": "code",
   "execution_count": 131,
   "metadata": {},
   "outputs": [],
   "source": [
    "features_train['speed']=windspeed_train\n",
    "features_test['speed']=windspeed_test"
   ]
  },
  {
   "cell_type": "code",
   "execution_count": 132,
   "metadata": {},
   "outputs": [],
   "source": [
    "c=features_train['Country'].value_counts()"
   ]
  },
  {
   "cell_type": "code",
   "execution_count": 133,
   "metadata": {},
   "outputs": [
    {
     "data": {
      "text/plain": [
       "<matplotlib.axes._subplots.AxesSubplot at 0x1a20354400>"
      ]
     },
     "execution_count": 133,
     "metadata": {},
     "output_type": "execute_result"
    },
    {
     "data": {
      "image/png": "[encoded data removed]",
      "text/plain": [
       "<Figure size 432x288 with 1 Axes>"
      ]
     },
     "metadata": {
      "needs_background": "light"
     },
     "output_type": "display_data"
    }
   ],
   "source": [
    "c.plot(kind='barh',rot=0)"
   ]
  },
  {
   "cell_type": "code",
   "execution_count": 115,
   "metadata": {},
   "outputs": [
    {
     "data": {
      "text/plain": [
       "<matplotlib.axes._subplots.AxesSubplot at 0x1a1f51bac8>"
      ]
     },
     "execution_count": 115,
     "metadata": {},
     "output_type": "execute_result"
    },
    {
     "data": {
      "image/png": "[encoded data removed]",
      "text/plain": [
       "<Figure size 432x288 with 1 Axes>"
      ]
     },
     "metadata": {
      "needs_background": "light"
     },
     "output_type": "display_data"
    }
   ],
   "source": [
    "c_test=features_test['Country'].value_counts()\n",
    "c_test.plot(kind='barh',rot=0)"
   ]
  },
  {
   "cell_type": "markdown",
   "metadata": {},
   "source": [
    "## now build a naive detector that takes the mean of each country and predict for the test set"
   ]
  },
  {
   "cell_type": "code",
   "execution_count": 102,
   "metadata": {},
   "outputs": [],
   "source": [
    "country_group=features_train.groupby(['Country']).mean()"
   ]
  },
  {
   "cell_type": "code",
   "execution_count": 103,
   "metadata": {},
   "outputs": [
    {
     "data": {
      "text/html": [
       "<div>\n",
       "<style scoped>\n",
       "    .dataframe tbody tr th:only-of-type {\n",
       "        vertical-align: middle;\n",
       "    }\n",
       "\n",
       "    .dataframe tbody tr th {\n",
       "        vertical-align: top;\n",
       "    }\n",
       "\n",
       "    .dataframe thead th {\n",
       "        text-align: right;\n",
       "    }\n",
       "</style>\n",
       "<table border=\"1\" class=\"dataframe\">\n",
       "  <thead>\n",
       "    <tr style=\"text-align: right;\">\n",
       "      <th></th>\n",
       "      <th>Distance to the closest Airport (kms)</th>\n",
       "      <th>Distance to the closest Builtup (kms)</th>\n",
       "      <th>Distance to the closest roads (kms)</th>\n",
       "      <th>Distance to the closest Agricultural area (kms)</th>\n",
       "      <th>Distance to the closest Settlement (kms)</th>\n",
       "      <th>Distance to the closest Vegetation (kms)</th>\n",
       "      <th>Distance to the closest Water (kms)</th>\n",
       "      <th>Distance to the closest Forest (kms)</th>\n",
       "      <th>Distance to the closest Grassland (kms)</th>\n",
       "      <th>Lat</th>\n",
       "      <th>Long</th>\n",
       "      <th>speed</th>\n",
       "    </tr>\n",
       "    <tr>\n",
       "      <th>Country</th>\n",
       "      <th></th>\n",
       "      <th></th>\n",
       "      <th></th>\n",
       "      <th></th>\n",
       "      <th></th>\n",
       "      <th></th>\n",
       "      <th></th>\n",
       "      <th></th>\n",
       "      <th></th>\n",
       "      <th></th>\n",
       "      <th></th>\n",
       "      <th></th>\n",
       "    </tr>\n",
       "  </thead>\n",
       "  <tbody>\n",
       "    <tr>\n",
       "      <th>Australia</th>\n",
       "      <td>17.863161</td>\n",
       "      <td>162.078981</td>\n",
       "      <td>4.338650</td>\n",
       "      <td>6.823254</td>\n",
       "      <td>12.401758</td>\n",
       "      <td>24.316741</td>\n",
       "      <td>18.120761</td>\n",
       "      <td>4.739296</td>\n",
       "      <td>6.447562</td>\n",
       "      <td>-34.659192</td>\n",
       "      <td>137.943571</td>\n",
       "      <td>8.381896</td>\n",
       "    </tr>\n",
       "    <tr>\n",
       "      <th>France</th>\n",
       "      <td>202.089691</td>\n",
       "      <td>22.818319</td>\n",
       "      <td>5.419725</td>\n",
       "      <td>5.419044</td>\n",
       "      <td>2.590394</td>\n",
       "      <td>27.306875</td>\n",
       "      <td>13.039370</td>\n",
       "      <td>3.252818</td>\n",
       "      <td>4.001513</td>\n",
       "      <td>48.148601</td>\n",
       "      <td>2.286217</td>\n",
       "      <td>8.032804</td>\n",
       "    </tr>\n",
       "    <tr>\n",
       "      <th>India</th>\n",
       "      <td>83.737716</td>\n",
       "      <td>44.143920</td>\n",
       "      <td>9.376301</td>\n",
       "      <td>9.382892</td>\n",
       "      <td>9.647899</td>\n",
       "      <td>35.822443</td>\n",
       "      <td>9.529307</td>\n",
       "      <td>15.897551</td>\n",
       "      <td>7.609234</td>\n",
       "      <td>14.718798</td>\n",
       "      <td>75.255039</td>\n",
       "      <td>7.520402</td>\n",
       "    </tr>\n",
       "    <tr>\n",
       "      <th>Italy</th>\n",
       "      <td>107.006368</td>\n",
       "      <td>21.534226</td>\n",
       "      <td>4.967014</td>\n",
       "      <td>5.768481</td>\n",
       "      <td>3.581149</td>\n",
       "      <td>16.483711</td>\n",
       "      <td>13.170249</td>\n",
       "      <td>3.938146</td>\n",
       "      <td>3.172436</td>\n",
       "      <td>39.913824</td>\n",
       "      <td>14.367535</td>\n",
       "      <td>5.384469</td>\n",
       "    </tr>\n",
       "    <tr>\n",
       "      <th>Japan</th>\n",
       "      <td>37.883398</td>\n",
       "      <td>32.056326</td>\n",
       "      <td>2.625231</td>\n",
       "      <td>2.024109</td>\n",
       "      <td>3.413729</td>\n",
       "      <td>62.632736</td>\n",
       "      <td>3.359854</td>\n",
       "      <td>3.543213</td>\n",
       "      <td>17.529590</td>\n",
       "      <td>38.177699</td>\n",
       "      <td>138.583361</td>\n",
       "      <td>7.560421</td>\n",
       "    </tr>\n",
       "    <tr>\n",
       "      <th>Philippines</th>\n",
       "      <td>28.163200</td>\n",
       "      <td>62.472986</td>\n",
       "      <td>4.083894</td>\n",
       "      <td>3.399115</td>\n",
       "      <td>12.398432</td>\n",
       "      <td>29.783906</td>\n",
       "      <td>4.221811</td>\n",
       "      <td>2.077636</td>\n",
       "      <td>60.991715</td>\n",
       "      <td>15.378866</td>\n",
       "      <td>121.359346</td>\n",
       "      <td>9.025809</td>\n",
       "    </tr>\n",
       "    <tr>\n",
       "      <th>Portugal</th>\n",
       "      <td>72.001408</td>\n",
       "      <td>25.276770</td>\n",
       "      <td>5.858849</td>\n",
       "      <td>2.108943</td>\n",
       "      <td>4.599753</td>\n",
       "      <td>14.272202</td>\n",
       "      <td>12.493287</td>\n",
       "      <td>2.776279</td>\n",
       "      <td>12.614722</td>\n",
       "      <td>40.195362</td>\n",
       "      <td>-8.239987</td>\n",
       "      <td>7.541821</td>\n",
       "    </tr>\n",
       "    <tr>\n",
       "      <th>Scotland</th>\n",
       "      <td>88.775246</td>\n",
       "      <td>27.477800</td>\n",
       "      <td>7.297502</td>\n",
       "      <td>3.449550</td>\n",
       "      <td>7.882149</td>\n",
       "      <td>8.049216</td>\n",
       "      <td>6.894114</td>\n",
       "      <td>1.970106</td>\n",
       "      <td>2.298267</td>\n",
       "      <td>56.400567</td>\n",
       "      <td>-3.701475</td>\n",
       "      <td>9.034414</td>\n",
       "    </tr>\n",
       "    <tr>\n",
       "      <th>South Africa</th>\n",
       "      <td>63.618475</td>\n",
       "      <td>70.547073</td>\n",
       "      <td>2.038879</td>\n",
       "      <td>4.718164</td>\n",
       "      <td>11.804420</td>\n",
       "      <td>17.310382</td>\n",
       "      <td>20.596226</td>\n",
       "      <td>5.221896</td>\n",
       "      <td>5.043467</td>\n",
       "      <td>-32.724230</td>\n",
       "      <td>22.929537</td>\n",
       "      <td>7.282951</td>\n",
       "    </tr>\n",
       "    <tr>\n",
       "      <th>Spain</th>\n",
       "      <td>161.841483</td>\n",
       "      <td>25.675804</td>\n",
       "      <td>5.794074</td>\n",
       "      <td>5.955227</td>\n",
       "      <td>7.319809</td>\n",
       "      <td>14.257738</td>\n",
       "      <td>18.674545</td>\n",
       "      <td>3.244562</td>\n",
       "      <td>5.409389</td>\n",
       "      <td>41.134824</td>\n",
       "      <td>-4.067581</td>\n",
       "      <td>7.666664</td>\n",
       "    </tr>\n",
       "    <tr>\n",
       "      <th>Thailand</th>\n",
       "      <td>63.055419</td>\n",
       "      <td>39.090996</td>\n",
       "      <td>286.489107</td>\n",
       "      <td>3.962201</td>\n",
       "      <td>5.961237</td>\n",
       "      <td>229.061035</td>\n",
       "      <td>4.888855</td>\n",
       "      <td>2.972390</td>\n",
       "      <td>22.389007</td>\n",
       "      <td>13.613475</td>\n",
       "      <td>101.112658</td>\n",
       "      <td>6.352205</td>\n",
       "    </tr>\n",
       "    <tr>\n",
       "      <th>Turkey</th>\n",
       "      <td>25.653919</td>\n",
       "      <td>24.552785</td>\n",
       "      <td>5.496137</td>\n",
       "      <td>2.535730</td>\n",
       "      <td>5.389138</td>\n",
       "      <td>14.102157</td>\n",
       "      <td>10.321359</td>\n",
       "      <td>2.457979</td>\n",
       "      <td>5.050769</td>\n",
       "      <td>38.774486</td>\n",
       "      <td>29.320277</td>\n",
       "      <td>8.102884</td>\n",
       "    </tr>\n",
       "  </tbody>\n",
       "</table>\n",
       "</div>"
      ],
      "text/plain": [
       "              Distance to the closest Airport (kms)  \\\n",
       "Country                                               \n",
       "Australia                                 17.863161   \n",
       "France                                   202.089691   \n",
       "India                                     83.737716   \n",
       "Italy                                    107.006368   \n",
       "Japan                                     37.883398   \n",
       "Philippines                               28.163200   \n",
       "Portugal                                  72.001408   \n",
       "Scotland                                  88.775246   \n",
       "South Africa                              63.618475   \n",
       "Spain                                    161.841483   \n",
       "Thailand                                  63.055419   \n",
       "Turkey                                    25.653919   \n",
       "\n",
       "              Distance to the closest Builtup (kms)  \\\n",
       "Country                                               \n",
       "Australia                                162.078981   \n",
       "France                                    22.818319   \n",
       "India                                     44.143920   \n",
       "Italy                                     21.534226   \n",
       "Japan                                     32.056326   \n",
       "Philippines                               62.472986   \n",
       "Portugal                                  25.276770   \n",
       "Scotland                                  27.477800   \n",
       "South Africa                              70.547073   \n",
       "Spain                                     25.675804   \n",
       "Thailand                                  39.090996   \n",
       "Turkey                                    24.552785   \n",
       "\n",
       "              Distance to the closest roads (kms)  \\\n",
       "Country                                             \n",
       "Australia                                4.338650   \n",
       "France                                   5.419725   \n",
       "India                                    9.376301   \n",
       "Italy                                    4.967014   \n",
       "Japan                                    2.625231   \n",
       "Philippines                              4.083894   \n",
       "Portugal                                 5.858849   \n",
       "Scotland                                 7.297502   \n",
       "South Africa                             2.038879   \n",
       "Spain                                    5.794074   \n",
       "Thailand                               286.489107   \n",
       "Turkey                                   5.496137   \n",
       "\n",
       "              Distance to the closest Agricultural area (kms)  \\\n",
       "Country                                                         \n",
       "Australia                                            6.823254   \n",
       "France                                               5.419044   \n",
       "India                                                9.382892   \n",
       "Italy                                                5.768481   \n",
       "Japan                                                2.024109   \n",
       "Philippines                                          3.399115   \n",
       "Portugal                                             2.108943   \n",
       "Scotland                                             3.449550   \n",
       "South Africa                                         4.718164   \n",
       "Spain                                                5.955227   \n",
       "Thailand                                             3.962201   \n",
       "Turkey                                               2.535730   \n",
       "\n",
       "              Distance to the closest Settlement (kms)  \\\n",
       "Country                                                  \n",
       "Australia                                    12.401758   \n",
       "France                                        2.590394   \n",
       "India                                         9.647899   \n",
       "Italy                                         3.581149   \n",
       "Japan                                         3.413729   \n",
       "Philippines                                  12.398432   \n",
       "Portugal                                      4.599753   \n",
       "Scotland                                      7.882149   \n",
       "South Africa                                 11.804420   \n",
       "Spain                                         7.319809   \n",
       "Thailand                                      5.961237   \n",
       "Turkey                                        5.389138   \n",
       "\n",
       "              Distance to the closest Vegetation (kms)  \\\n",
       "Country                                                  \n",
       "Australia                                    24.316741   \n",
       "France                                       27.306875   \n",
       "India                                        35.822443   \n",
       "Italy                                        16.483711   \n",
       "Japan                                        62.632736   \n",
       "Philippines                                  29.783906   \n",
       "Portugal                                     14.272202   \n",
       "Scotland                                      8.049216   \n",
       "South Africa                                 17.310382   \n",
       "Spain                                        14.257738   \n",
       "Thailand                                    229.061035   \n",
       "Turkey                                       14.102157   \n",
       "\n",
       "              Distance to the closest Water (kms)  \\\n",
       "Country                                             \n",
       "Australia                               18.120761   \n",
       "France                                  13.039370   \n",
       "India                                    9.529307   \n",
       "Italy                                   13.170249   \n",
       "Japan                                    3.359854   \n",
       "Philippines                              4.221811   \n",
       "Portugal                                12.493287   \n",
       "Scotland                                 6.894114   \n",
       "South Africa                            20.596226   \n",
       "Spain                                   18.674545   \n",
       "Thailand                                 4.888855   \n",
       "Turkey                                  10.321359   \n",
       "\n",
       "              Distance to the closest Forest (kms)  \\\n",
       "Country                                              \n",
       "Australia                                 4.739296   \n",
       "France                                    3.252818   \n",
       "India                                    15.897551   \n",
       "Italy                                     3.938146   \n",
       "Japan                                     3.543213   \n",
       "Philippines                               2.077636   \n",
       "Portugal                                  2.776279   \n",
       "Scotland                                  1.970106   \n",
       "South Africa                              5.221896   \n",
       "Spain                                     3.244562   \n",
       "Thailand                                  2.972390   \n",
       "Turkey                                    2.457979   \n",
       "\n",
       "              Distance to the closest Grassland (kms)        Lat        Long  \\\n",
       "Country                                                                        \n",
       "Australia                                    6.447562 -34.659192  137.943571   \n",
       "France                                       4.001513  48.148601    2.286217   \n",
       "India                                        7.609234  14.718798   75.255039   \n",
       "Italy                                        3.172436  39.913824   14.367535   \n",
       "Japan                                       17.529590  38.177699  138.583361   \n",
       "Philippines                                 60.991715  15.378866  121.359346   \n",
       "Portugal                                    12.614722  40.195362   -8.239987   \n",
       "Scotland                                     2.298267  56.400567   -3.701475   \n",
       "South Africa                                 5.043467 -32.724230   22.929537   \n",
       "Spain                                        5.409389  41.134824   -4.067581   \n",
       "Thailand                                    22.389007  13.613475  101.112658   \n",
       "Turkey                                       5.050769  38.774486   29.320277   \n",
       "\n",
       "                 speed  \n",
       "Country                 \n",
       "Australia     8.381896  \n",
       "France        8.032804  \n",
       "India         7.520402  \n",
       "Italy         5.384469  \n",
       "Japan         7.560421  \n",
       "Philippines   9.025809  \n",
       "Portugal      7.541821  \n",
       "Scotland      9.034414  \n",
       "South Africa  7.282951  \n",
       "Spain         7.666664  \n",
       "Thailand      6.352205  \n",
       "Turkey        8.102884  "
      ]
     },
     "execution_count": 103,
     "metadata": {},
     "output_type": "execute_result"
    }
   ],
   "source": [
    "country_group"
   ]
  },
  {
   "cell_type": "code",
   "execution_count": 104,
   "metadata": {},
   "outputs": [],
   "source": [
    "pred=country_group['speed']"
   ]
  },
  {
   "cell_type": "code",
   "execution_count": 105,
   "metadata": {},
   "outputs": [],
   "source": [
    "pred.name='prediction'"
   ]
  },
  {
   "cell_type": "code",
   "execution_count": 106,
   "metadata": {},
   "outputs": [
    {
     "data": {
      "text/plain": [
       "'prediction'"
      ]
     },
     "execution_count": 106,
     "metadata": {},
     "output_type": "execute_result"
    }
   ],
   "source": [
    "pred.name"
   ]
  },
  {
   "cell_type": "code",
   "execution_count": 107,
   "metadata": {},
   "outputs": [],
   "source": [
    "#for 'Windspeed_50 (m/s)'\n",
    "features=['Country','speed']\n",
    "x1=features_test[features]"
   ]
  },
  {
   "cell_type": "code",
   "execution_count": 108,
   "metadata": {},
   "outputs": [],
   "source": [
    "x1=x1.join(pred, on='Country')\n"
   ]
  },
  {
   "cell_type": "code",
   "execution_count": 109,
   "metadata": {},
   "outputs": [],
   "source": [
    "#now caclulate MSE error\n",
    "import numpy as np\n",
    "error=x1['speed'].values-x1['prediction'].values\n",
    "MSE=np.mean(np.square(error))"
   ]
  },
  {
   "cell_type": "code",
   "execution_count": 110,
   "metadata": {},
   "outputs": [
    {
     "data": {
      "text/plain": [
       "0.7063751150226464"
      ]
     },
     "execution_count": 110,
     "metadata": {},
     "output_type": "execute_result"
    }
   ],
   "source": [
    "MSE"
   ]
  },
  {
   "cell_type": "code",
   "execution_count": null,
   "metadata": {},
   "outputs": [],
   "source": []
  },
  {
   "cell_type": "code",
   "execution_count": null,
   "metadata": {},
   "outputs": [],
   "source": []
  },
  {
   "cell_type": "code",
   "execution_count": null,
   "metadata": {},
   "outputs": [],
   "source": []
  }
 ],
 "metadata": {
  "anaconda-cloud": {},
  "kernelspec": {
   "display_name": "Python 3",
   "language": "python",
   "name": "python3"
  },
  "language_info": {
   "codemirror_mode": {
    "name": "ipython",
    "version": 3
   },
   "file_extension": ".py",
   "mimetype": "text/x-python",
   "name": "python",
   "nbconvert_exporter": "python",
   "pygments_lexer": "ipython3",
   "version": "3.6.7"
  }
 },
 "nbformat": 4,
 "nbformat_minor": 1
}
